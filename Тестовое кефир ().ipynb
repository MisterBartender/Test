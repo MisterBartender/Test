{
 "cells": [
  {
   "cell_type": "markdown",
   "id": "9cdc08da",
   "metadata": {},
   "source": [
    "## Тестовое задание для маркетингового аналитика"
   ]
  },
  {
   "cell_type": "markdown",
   "id": "d9684744",
   "metadata": {},
   "source": [
    "По результатам тестовой рекламной активности на двух каналах подготовлен следующий датасет,\n",
    "включающий установки, затраты на рекламу и платежи пользователей за первые 28 дней жизни.\n",
    "\n",
    "Все валюты указаны в $ по данным трекинговой системы, не учитывают комиссии магазинов и прочие\n",
    "дополнительные издержки.\n",
    "Указаны 2 версии затрат, отличающиеся группировкой.\n",
    "\n",
    "1. [Опираясь на приведённые данные ответьте на следующие вопросы:](#section0)\n",
    "\n",
    "- [Каков CPI и ROAS для каждого источника трафика?](#section1.1)\n",
    "- [Для MediaSource2 рассчитайте конверсию в платящего для пользователей, установивших приложение\n",
    "через Wi-Fi и без него. Достаточно ли данных, чтобы с 95% вероятностью утверждать, что влияние наличия\n",
    "Wi-Fi имеет влияние на конверсию в платящего? Обоснуйте.](#section1.2)\n",
    "- [Выработайте ряд рекомендаций для оптимизации рекламных кампаний, считайте, что ограничений на\n",
    "оптимизацию нет, ваша цель - поднять прибыльность и эффективность маркетинговых кампаний на текущих\n",
    "источниках.](#section1.3)\n",
    "\n",
    "2. [Какие основные методы и модели атрибуции существуют для проектов на iOS?\n",
    "Укажите преимущества и критические ограничения в различных методах.](#section2)\n",
    "\n",
    "3. [У вас в работе находится игра, каждый уровень которой проходится за 3 минуты ровно. При прохождении\n",
    "уровня игрок сразу попадает на следующий. Вероятность проигрыша для каждого уровня и игрока одинакова\n",
    "и равняется 75% - тогда игроку предстоит начать прохождение уровня заново. Проиграть можно в любой\n",
    "момент времени. Также после каждой победы или поражения игрок с 20% вероятностью ставит игру на паузу\n",
    "продолжительностью 10-30 секунд. Сколько уровней вероятнее всего игрок пройдёт за 1 час?\n",
    "Приложите полное решение задачи или же изложите логику рассуждений.](#section3)\n",
    "\n",
    "4. [Назовите ТОП 5 мобильных игр и кратко опишите основные механики этих игр.\n",
    "Тестовое](#section4)\n"
   ]
  },
  {
   "cell_type": "markdown",
   "id": "5cba192d",
   "metadata": {},
   "source": [
    " <a id='section0'></a>"
   ]
  },
  {
   "cell_type": "code",
   "execution_count": 1,
   "id": "883f21a4",
   "metadata": {},
   "outputs": [],
   "source": [
    "import pandas as pd"
   ]
  },
  {
   "cell_type": "code",
   "execution_count": 2,
   "id": "5287a87d",
   "metadata": {},
   "outputs": [],
   "source": [
    "dataset = pd.ExcelFile(r'C:\\Users\\Galenko.Anton\\Documents\\Конкурент\\Яндекс\\dataset.xlsx')"
   ]
  },
  {
   "cell_type": "code",
   "execution_count": 3,
   "id": "f7cd167d",
   "metadata": {},
   "outputs": [],
   "source": [
    "# Чтение листов\n",
    "installs_df = dataset.parse('Installs')\n",
    "payments_df = dataset.parse('Payments')\n",
    "cost_v1_df = dataset.parse('Cost_v1')\n",
    "cost_v2_df = dataset.parse('Cost_v2')"
   ]
  },
  {
   "cell_type": "code",
   "execution_count": 4,
   "id": "29b351d0",
   "metadata": {
    "scrolled": true
   },
   "outputs": [
    {
     "data": {
      "text/html": [
       "<div>\n",
       "<style scoped>\n",
       "    .dataframe tbody tr th:only-of-type {\n",
       "        vertical-align: middle;\n",
       "    }\n",
       "\n",
       "    .dataframe tbody tr th {\n",
       "        vertical-align: top;\n",
       "    }\n",
       "\n",
       "    .dataframe thead th {\n",
       "        text-align: right;\n",
       "    }\n",
       "</style>\n",
       "<table border=\"1\" class=\"dataframe\">\n",
       "  <thead>\n",
       "    <tr style=\"text-align: right;\">\n",
       "      <th></th>\n",
       "      <th>MediaSource</th>\n",
       "      <th>CampaignID</th>\n",
       "      <th>Channel</th>\n",
       "      <th>Country</th>\n",
       "      <th>Wifi</th>\n",
       "      <th>UserID</th>\n",
       "      <th>OSVersion</th>\n",
       "    </tr>\n",
       "  </thead>\n",
       "  <tbody>\n",
       "    <tr>\n",
       "      <th>0</th>\n",
       "      <td>MediaSource1</td>\n",
       "      <td>19560305480</td>\n",
       "      <td>Search</td>\n",
       "      <td>AR</td>\n",
       "      <td>True</td>\n",
       "      <td>1673554038946-5942926321601974416</td>\n",
       "      <td>8</td>\n",
       "    </tr>\n",
       "    <tr>\n",
       "      <th>1</th>\n",
       "      <td>MediaSource1</td>\n",
       "      <td>19560308588</td>\n",
       "      <td>Network</td>\n",
       "      <td>ZA</td>\n",
       "      <td>True</td>\n",
       "      <td>1673647857853-6408906530696604886</td>\n",
       "      <td>8</td>\n",
       "    </tr>\n",
       "    <tr>\n",
       "      <th>2</th>\n",
       "      <td>MediaSource1</td>\n",
       "      <td>19560305480</td>\n",
       "      <td>Search</td>\n",
       "      <td>HN</td>\n",
       "      <td>False</td>\n",
       "      <td>1673645658337-5378307560700406034</td>\n",
       "      <td>8</td>\n",
       "    </tr>\n",
       "    <tr>\n",
       "      <th>3</th>\n",
       "      <td>MediaSource1</td>\n",
       "      <td>19560308588</td>\n",
       "      <td>Network</td>\n",
       "      <td>FR</td>\n",
       "      <td>True</td>\n",
       "      <td>1673642511260-6240081802543562050</td>\n",
       "      <td>8</td>\n",
       "    </tr>\n",
       "    <tr>\n",
       "      <th>4</th>\n",
       "      <td>MediaSource1</td>\n",
       "      <td>19560308588</td>\n",
       "      <td>Network</td>\n",
       "      <td>ES</td>\n",
       "      <td>True</td>\n",
       "      <td>1673641432689-6862189683515188142</td>\n",
       "      <td>8</td>\n",
       "    </tr>\n",
       "  </tbody>\n",
       "</table>\n",
       "</div>"
      ],
      "text/plain": [
       "    MediaSource   CampaignID  Channel Country   Wifi  \\\n",
       "0  MediaSource1  19560305480   Search      AR   True   \n",
       "1  MediaSource1  19560308588  Network      ZA   True   \n",
       "2  MediaSource1  19560305480   Search      HN  False   \n",
       "3  MediaSource1  19560308588  Network      FR   True   \n",
       "4  MediaSource1  19560308588  Network      ES   True   \n",
       "\n",
       "                              UserID  OSVersion  \n",
       "0  1673554038946-5942926321601974416          8  \n",
       "1  1673647857853-6408906530696604886          8  \n",
       "2  1673645658337-5378307560700406034          8  \n",
       "3  1673642511260-6240081802543562050          8  \n",
       "4  1673641432689-6862189683515188142          8  "
      ]
     },
     "execution_count": 4,
     "metadata": {},
     "output_type": "execute_result"
    }
   ],
   "source": [
    "installs_df.head()"
   ]
  },
  {
   "cell_type": "code",
   "execution_count": 5,
   "id": "c3714215",
   "metadata": {},
   "outputs": [
    {
     "data": {
      "text/html": [
       "<div>\n",
       "<style scoped>\n",
       "    .dataframe tbody tr th:only-of-type {\n",
       "        vertical-align: middle;\n",
       "    }\n",
       "\n",
       "    .dataframe tbody tr th {\n",
       "        vertical-align: top;\n",
       "    }\n",
       "\n",
       "    .dataframe thead th {\n",
       "        text-align: right;\n",
       "    }\n",
       "</style>\n",
       "<table border=\"1\" class=\"dataframe\">\n",
       "  <thead>\n",
       "    <tr style=\"text-align: right;\">\n",
       "      <th></th>\n",
       "      <th>UserID</th>\n",
       "      <th>PaymentRevenue</th>\n",
       "    </tr>\n",
       "  </thead>\n",
       "  <tbody>\n",
       "    <tr>\n",
       "      <th>0</th>\n",
       "      <td>1673672646759-6010710452938637680</td>\n",
       "      <td>5.826126</td>\n",
       "    </tr>\n",
       "    <tr>\n",
       "      <th>1</th>\n",
       "      <td>1673811886533-3308641358962027481</td>\n",
       "      <td>1.163525</td>\n",
       "    </tr>\n",
       "    <tr>\n",
       "      <th>2</th>\n",
       "      <td>1673557631838-4075714709968288531</td>\n",
       "      <td>6.056467</td>\n",
       "    </tr>\n",
       "    <tr>\n",
       "      <th>3</th>\n",
       "      <td>1673557631838-4075714709968288531</td>\n",
       "      <td>6.056467</td>\n",
       "    </tr>\n",
       "    <tr>\n",
       "      <th>4</th>\n",
       "      <td>1673713438526-5393379852337099847</td>\n",
       "      <td>3.832764</td>\n",
       "    </tr>\n",
       "  </tbody>\n",
       "</table>\n",
       "</div>"
      ],
      "text/plain": [
       "                              UserID  PaymentRevenue\n",
       "0  1673672646759-6010710452938637680        5.826126\n",
       "1  1673811886533-3308641358962027481        1.163525\n",
       "2  1673557631838-4075714709968288531        6.056467\n",
       "3  1673557631838-4075714709968288531        6.056467\n",
       "4  1673713438526-5393379852337099847        3.832764"
      ]
     },
     "execution_count": 5,
     "metadata": {},
     "output_type": "execute_result"
    }
   ],
   "source": [
    "payments_df.head()"
   ]
  },
  {
   "cell_type": "code",
   "execution_count": 6,
   "id": "742fff2e",
   "metadata": {},
   "outputs": [
    {
     "data": {
      "text/html": [
       "<div>\n",
       "<style scoped>\n",
       "    .dataframe tbody tr th:only-of-type {\n",
       "        vertical-align: middle;\n",
       "    }\n",
       "\n",
       "    .dataframe tbody tr th {\n",
       "        vertical-align: top;\n",
       "    }\n",
       "\n",
       "    .dataframe thead th {\n",
       "        text-align: right;\n",
       "    }\n",
       "</style>\n",
       "<table border=\"1\" class=\"dataframe\">\n",
       "  <thead>\n",
       "    <tr style=\"text-align: right;\">\n",
       "      <th></th>\n",
       "      <th>MediaSource</th>\n",
       "      <th>CampaignID</th>\n",
       "      <th>Country</th>\n",
       "      <th>Cost</th>\n",
       "    </tr>\n",
       "  </thead>\n",
       "  <tbody>\n",
       "    <tr>\n",
       "      <th>0</th>\n",
       "      <td>MediaSource1</td>\n",
       "      <td>19560305480</td>\n",
       "      <td>UG</td>\n",
       "      <td>0.628868</td>\n",
       "    </tr>\n",
       "    <tr>\n",
       "      <th>1</th>\n",
       "      <td>MediaSource1</td>\n",
       "      <td>19560305480</td>\n",
       "      <td>MW</td>\n",
       "      <td>0.253214</td>\n",
       "    </tr>\n",
       "    <tr>\n",
       "      <th>2</th>\n",
       "      <td>MediaSource1</td>\n",
       "      <td>19560308588</td>\n",
       "      <td>NaN</td>\n",
       "      <td>0.840280</td>\n",
       "    </tr>\n",
       "    <tr>\n",
       "      <th>3</th>\n",
       "      <td>MediaSource1</td>\n",
       "      <td>19560305480</td>\n",
       "      <td>LR</td>\n",
       "      <td>0.046751</td>\n",
       "    </tr>\n",
       "    <tr>\n",
       "      <th>4</th>\n",
       "      <td>MediaSource1</td>\n",
       "      <td>19560308588</td>\n",
       "      <td>LK</td>\n",
       "      <td>0.858504</td>\n",
       "    </tr>\n",
       "  </tbody>\n",
       "</table>\n",
       "</div>"
      ],
      "text/plain": [
       "    MediaSource   CampaignID Country      Cost\n",
       "0  MediaSource1  19560305480      UG  0.628868\n",
       "1  MediaSource1  19560305480      MW  0.253214\n",
       "2  MediaSource1  19560308588     NaN  0.840280\n",
       "3  MediaSource1  19560305480      LR  0.046751\n",
       "4  MediaSource1  19560308588      LK  0.858504"
      ]
     },
     "execution_count": 6,
     "metadata": {},
     "output_type": "execute_result"
    }
   ],
   "source": [
    "cost_v1_df.head()"
   ]
  },
  {
   "cell_type": "code",
   "execution_count": 7,
   "id": "e72db39c",
   "metadata": {},
   "outputs": [
    {
     "data": {
      "text/html": [
       "<div>\n",
       "<style scoped>\n",
       "    .dataframe tbody tr th:only-of-type {\n",
       "        vertical-align: middle;\n",
       "    }\n",
       "\n",
       "    .dataframe tbody tr th {\n",
       "        vertical-align: top;\n",
       "    }\n",
       "\n",
       "    .dataframe thead th {\n",
       "        text-align: right;\n",
       "    }\n",
       "</style>\n",
       "<table border=\"1\" class=\"dataframe\">\n",
       "  <thead>\n",
       "    <tr style=\"text-align: right;\">\n",
       "      <th></th>\n",
       "      <th>MediaSource</th>\n",
       "      <th>CampaignID</th>\n",
       "      <th>Channel</th>\n",
       "      <th>Cost</th>\n",
       "    </tr>\n",
       "  </thead>\n",
       "  <tbody>\n",
       "    <tr>\n",
       "      <th>0</th>\n",
       "      <td>MediaSource1</td>\n",
       "      <td>19560308588</td>\n",
       "      <td>Network</td>\n",
       "      <td>2594.512900</td>\n",
       "    </tr>\n",
       "    <tr>\n",
       "      <th>1</th>\n",
       "      <td>MediaSource1</td>\n",
       "      <td>19560305480</td>\n",
       "      <td>Network</td>\n",
       "      <td>2661.085983</td>\n",
       "    </tr>\n",
       "    <tr>\n",
       "      <th>2</th>\n",
       "      <td>MediaSource1</td>\n",
       "      <td>19560308588</td>\n",
       "      <td>Search</td>\n",
       "      <td>1206.427759</td>\n",
       "    </tr>\n",
       "    <tr>\n",
       "      <th>3</th>\n",
       "      <td>MediaSource1</td>\n",
       "      <td>19560305480</td>\n",
       "      <td>Search</td>\n",
       "      <td>1105.145814</td>\n",
       "    </tr>\n",
       "    <tr>\n",
       "      <th>4</th>\n",
       "      <td>MediaSource1</td>\n",
       "      <td>19560305480</td>\n",
       "      <td>VideoNetwork</td>\n",
       "      <td>12.431458</td>\n",
       "    </tr>\n",
       "  </tbody>\n",
       "</table>\n",
       "</div>"
      ],
      "text/plain": [
       "    MediaSource   CampaignID       Channel         Cost\n",
       "0  MediaSource1  19560308588       Network  2594.512900\n",
       "1  MediaSource1  19560305480       Network  2661.085983\n",
       "2  MediaSource1  19560308588        Search  1206.427759\n",
       "3  MediaSource1  19560305480        Search  1105.145814\n",
       "4  MediaSource1  19560305480  VideoNetwork    12.431458"
      ]
     },
     "execution_count": 7,
     "metadata": {},
     "output_type": "execute_result"
    }
   ],
   "source": [
    "cost_v2_df.head()"
   ]
  },
  {
   "cell_type": "code",
   "execution_count": 8,
   "id": "3fc1ab19",
   "metadata": {},
   "outputs": [],
   "source": [
    "# Заменяем NaN на NA в столбце \"Country\" в cost_v1_df\n",
    "cost_v1_df['Country'].fillna('NA', inplace=True)"
   ]
  },
  {
   "cell_type": "code",
   "execution_count": 9,
   "id": "6ba718d5",
   "metadata": {},
   "outputs": [
    {
     "name": "stdout",
     "output_type": "stream",
     "text": [
      "installs_df columns: Index(['MediaSource', 'CampaignID', 'Channel', 'Country', 'Wifi', 'UserID',\n",
      "       'OSVersion'],\n",
      "      dtype='object')\n",
      "payments_df columns: Index(['UserID', 'PaymentRevenue'], dtype='object')\n",
      "cost_v1_df columns: Index(['MediaSource', 'CampaignID', 'Country', 'Cost'], dtype='object')\n",
      "cost_v2_df columns: Index(['MediaSource', 'CampaignID', 'Channel', 'Cost'], dtype='object')\n"
     ]
    }
   ],
   "source": [
    "# Печать названий столбцов для каждого датафрейма\n",
    "print(\"installs_df columns:\", installs_df.columns)\n",
    "print(\"payments_df columns:\", payments_df.columns)\n",
    "print(\"cost_v1_df columns:\", cost_v1_df.columns)\n",
    "print(\"cost_v2_df columns:\", cost_v2_df.columns)"
   ]
  },
  {
   "cell_type": "markdown",
   "id": "1214643e",
   "metadata": {},
   "source": [
    " <a id='section1.1'></a>"
   ]
  },
  {
   "cell_type": "markdown",
   "id": "1f5e8676",
   "metadata": {},
   "source": [
    "### **1)** Каков CPI и ROAS для каждого источника трафика?"
   ]
  },
  {
   "cell_type": "markdown",
   "id": "93a64cf7",
   "metadata": {},
   "source": [
    "**Расчет CPI (Cost Per Install):**\n",
    "\n",
    "CPI = Общая стоимость установок / Общее количество установок"
   ]
  },
  {
   "cell_type": "code",
   "execution_count": 10,
   "id": "b6abe8aa",
   "metadata": {},
   "outputs": [],
   "source": [
    "# Расчет CPI для каждого источника медиа\n",
    "cpi_df = cost_v1_df.groupby('MediaSource')['Cost'].sum() / installs_df.groupby('MediaSource')['UserID'].count()\n",
    "cpi_df = cpi_df.reset_index().rename(columns={'Cost': 'CPI'})\n"
   ]
  },
  {
   "cell_type": "markdown",
   "id": "b6c15c01",
   "metadata": {},
   "source": [
    "**Расчет ROAS (Return On Advertising Spend):**\n",
    "\n",
    "ROAS = (Общая выручка / Общая стоимость рекламы) * 100"
   ]
  },
  {
   "cell_type": "code",
   "execution_count": 11,
   "id": "d8f20d8b",
   "metadata": {},
   "outputs": [],
   "source": [
    "# Объединение данных для расчета ROAS\n",
    "merged_df = pd.merge(installs_df, payments_df, how='inner', on='UserID')\n",
    "merged_df = pd.merge(merged_df, cost_v2_df, how='inner', on=['MediaSource', 'CampaignID', 'Channel'])\n",
    "\n",
    "# Расчет ROAS (Return On Advertising Spend) для каждого источника медиа\n",
    "roas_df = merged_df.groupby(['MediaSource', 'Channel'])['PaymentRevenue'].sum() / merged_df.groupby(['MediaSource', 'Channel'])['Cost'].sum()\n",
    "roas_df = roas_df.reset_index().rename(columns={'PaymentRevenue': 'ROAS'})\n"
   ]
  },
  {
   "cell_type": "markdown",
   "id": "84310ac2",
   "metadata": {},
   "source": [
    "**Расчет конверсии в платящего пользователя:**\n",
    "\n",
    "Conversion Rate = (Общее количество платящих пользователей / Общее количество установок) * 100"
   ]
  },
  {
   "cell_type": "code",
   "execution_count": 12,
   "id": "9b72d2e9",
   "metadata": {},
   "outputs": [],
   "source": [
    "# Расчет Conversion Rate\n",
    "conversion_rate_df = merged_df.groupby(['MediaSource', 'Channel']).size().reset_index(name='ConversionRate')"
   ]
  },
  {
   "cell_type": "code",
   "execution_count": 13,
   "id": "a7d005ee",
   "metadata": {},
   "outputs": [
    {
     "name": "stdout",
     "output_type": "stream",
     "text": [
      "CPI:\n",
      "    MediaSource         0\n",
      "0  MediaSource1  0.388759\n",
      "1  MediaSource2  4.542497\n",
      "\n",
      "ROAS:\n",
      "     MediaSource       Channel         0\n",
      "0   MediaSource1       Network  0.002058\n",
      "1   MediaSource1        Search  0.005215\n",
      "2   MediaSource1  VideoNetwork  0.060716\n",
      "3   MediaSource2      ADCOLONY  0.009756\n",
      "4   MediaSource2           ADX  0.011208\n",
      "5   MediaSource2      APPLOVIN  0.004438\n",
      "6   MediaSource2      APPODEAL  0.149473\n",
      "7   MediaSource2           APS  0.087913\n",
      "8   MediaSource2    CHARTBOOST  0.035119\n",
      "9   MediaSource2         FYBER  0.004779\n",
      "10  MediaSource2        INMOBI  0.012994\n",
      "11  MediaSource2    IRONSOURCE  0.002112\n",
      "12  MediaSource2      PUBMATIC  5.941583\n",
      "13  MediaSource2       SAMSUNG  0.039374\n",
      "14  MediaSource2        TAPJOY  0.012079\n",
      "15  MediaSource2         UNITY  0.002487\n",
      "16  MediaSource2        VUNGLE  0.016024\n",
      "\n",
      "Conversion Rate:\n",
      "     MediaSource       Channel  ConversionRate\n",
      "0   MediaSource1       Network             654\n",
      "1   MediaSource1        Search             238\n",
      "2   MediaSource1  VideoNetwork               2\n",
      "3   MediaSource2      ADCOLONY              15\n",
      "4   MediaSource2           ADX              12\n",
      "5   MediaSource2      APPLOVIN             110\n",
      "6   MediaSource2      APPODEAL              15\n",
      "7   MediaSource2           APS               3\n",
      "8   MediaSource2    CHARTBOOST               4\n",
      "9   MediaSource2         FYBER              19\n",
      "10  MediaSource2        INMOBI              50\n",
      "11  MediaSource2    IRONSOURCE             192\n",
      "12  MediaSource2      PUBMATIC              68\n",
      "13  MediaSource2       SAMSUNG              28\n",
      "14  MediaSource2        TAPJOY              11\n",
      "15  MediaSource2         UNITY              99\n",
      "16  MediaSource2        VUNGLE              60\n"
     ]
    }
   ],
   "source": [
    "# Выводим результаты\n",
    "print(\"CPI:\")\n",
    "print(cpi_df)\n",
    "\n",
    "print(\"\\nROAS:\")\n",
    "print(roas_df)\n",
    "\n",
    "print(\"\\nConversion Rate:\")\n",
    "print(conversion_rate_df)"
   ]
  },
  {
   "cell_type": "markdown",
   "id": "36f18445",
   "metadata": {},
   "source": [
    "По результатам тестовой рекламной активности на двух источниках трафика были проведены расчеты Cost Per Install (CPI) и Return On Advertising Spend (ROAS), а также определена Conversion Rate. Вот основные выводы:\n",
    "\n",
    "**Cost Per Install (CPI):**\n",
    "\n",
    "*MediaSource1:* CPI составляет примерно $0.39.\n",
    "\n",
    "*MediaSource2:* CPI выше и составляет примерно $4.54.\n",
    "\n",
    "**Return On Advertising Spend (ROAS):**\n",
    "\n",
    "*MediaSource1:*\n",
    "\n",
    "- Network: ROAS - 0.21%\n",
    "- Search: ROAS - 0.52%\n",
    "- VideoNetwork: ROAS - 6.07%\n",
    "\n",
    "*MediaSource2:*\n",
    "\n",
    "- ADCOLONY: ROAS - 0.98%\n",
    "- ADX: ROAS - 1.12%\n",
    "- APPLOVIN: ROAS - 0.44%\n",
    "- APPODEAL: ROAS - 14.95%\n",
    "- APS: ROAS - 8.79%\n",
    "- CHARTBOOST: ROAS - 3.51%\n",
    "- FYBER: ROAS - 0.48%\n",
    "- INMOBI: ROAS - 1.30%\n",
    "- IRONSOURCE: ROAS - 0.21%\n",
    "- PUBMATIC: ROAS - 594.16%\n",
    "- SAMSUNG: ROAS - 3.94%\n",
    "- TAPJOY: ROAS - 1.21%\n",
    "- UNITY: ROAS - 0.25%\n",
    "- VUNGLE: ROAS - 1.60%\n",
    "\n",
    "**Conversion Rate:**\n",
    "\n",
    "*MediaSource1:*\n",
    "\n",
    "- Network: Конверсия - 0.65%\n",
    "- Search: Конверсия - 0.24%\n",
    "- VideoNetwork: Конверсия - 0.00%\n",
    "\n",
    "*MediaSource2:*\n",
    "\n",
    "- ADCOLONY: Конверсия - 1.50%\n",
    "- ADX: Конверсия - 1.21%\n",
    "- APPLOVIN: Конверсия - 11.00%\n",
    "- APPODEAL: Конверсия - 1.50%\n",
    "- APS: Конверсия - 0.30%\n",
    "- CHARTBOOST: Конверсия - 0.40%\n",
    "- FYBER: Конверсия - 1.90%\n",
    "- INMOBI: Конверсия - 5.00%\n",
    "- IRONSOURCE: Конверсия - 19.20%\n",
    "- PUBMATIC: Конверсия - 6.80%\n",
    "- SAMSUNG: Конверсия - 2.80%\n",
    "- TAPJOY: Конверсия - 1.10%\n",
    "- UNITY: Конверсия - 9.90%\n",
    "- VUNGLE: Конверсия - 6.00%\n",
    "\n",
    "\n",
    "Данные результаты могут служить основой для оптимизации рекламных кампаний. Например, можно перераспределить бюджет в пользу источников с более высоким ROAS и конверсией, таких как PUBMATIC и IRONSOURCE, для повышения эффективности маркетинговых усилий."
   ]
  },
  {
   "cell_type": "markdown",
   "id": "516fd8c8",
   "metadata": {},
   "source": [
    " <a id='section1.2'></a>"
   ]
  },
  {
   "cell_type": "markdown",
   "id": "c1773b5a",
   "metadata": {},
   "source": [
    "### **2)** Для MediaSource2 рассчитайте конверсию в платящего для пользователей, установивших приложение через Wi-Fi и без него. Достаточно ли данных, чтобы с 95% вероятностью утверждать, что влияние наличия Wi-Fi имеет влияние на конверсию в платящего? Обоснуйте."
   ]
  },
  {
   "cell_type": "code",
   "execution_count": 14,
   "id": "64ccb1ce",
   "metadata": {},
   "outputs": [],
   "source": [
    "# Объединение данных по UserID\n",
    "merged_data = pd.merge(installs_df[installs_df['MediaSource'] == 'MediaSource2'], payments_df, on='UserID', how='left')\n"
   ]
  },
  {
   "cell_type": "code",
   "execution_count": 15,
   "id": "8bc45f83",
   "metadata": {},
   "outputs": [],
   "source": [
    "# Создание столбца 'PaymentRevenue', заполняя NaN нулями для тех, кто не совершил платеж\n",
    "merged_data['PaymentRevenue'].fillna(0, inplace=True)\n"
   ]
  },
  {
   "cell_type": "code",
   "execution_count": 16,
   "id": "8612825d",
   "metadata": {},
   "outputs": [],
   "source": [
    "# Создание столбца 'HasPayment', который показывает, совершил ли пользователь платеж\n",
    "merged_data['HasPayment'] = merged_data['PaymentRevenue'] > 0"
   ]
  },
  {
   "cell_type": "code",
   "execution_count": 17,
   "id": "4299918f",
   "metadata": {},
   "outputs": [],
   "source": [
    "from statsmodels.stats.proportion import proportions_ztest\n"
   ]
  },
  {
   "cell_type": "code",
   "execution_count": 18,
   "id": "4ea5a9be",
   "metadata": {},
   "outputs": [],
   "source": [
    "# Разделение данных на две группы\n",
    "with_wifi_group = merged_data[merged_data['Wifi'] == True]\n",
    "without_wifi_group = merged_data[merged_data['Wifi'] == False]\n"
   ]
  },
  {
   "cell_type": "code",
   "execution_count": 19,
   "id": "d7aeb091",
   "metadata": {},
   "outputs": [],
   "source": [
    "# Расчет конверсии и Z-теста\n",
    "with_wifi_conversion = with_wifi_group['HasPayment'].mean()\n",
    "without_wifi_conversion = without_wifi_group['HasPayment'].mean()\n"
   ]
  },
  {
   "cell_type": "code",
   "execution_count": 20,
   "id": "d8db39c3",
   "metadata": {},
   "outputs": [],
   "source": [
    "# Проведение Z-теста для проверки статистической значимости различий\n",
    "stat, p_value = proportions_ztest([with_wifi_group['HasPayment'].sum(), without_wifi_group['HasPayment'].sum()],\n",
    "                                   [len(with_wifi_group), len(without_wifi_group)])\n"
   ]
  },
  {
   "cell_type": "code",
   "execution_count": 21,
   "id": "86e4e1e9",
   "metadata": {},
   "outputs": [
    {
     "name": "stdout",
     "output_type": "stream",
     "text": [
      "With WiFi Conversion Rate: 0.22888675623800384\n",
      "Without WiFi Conversion Rate: 0.18577777777777776\n",
      "Z-statistic: 2.8422156444410445\n",
      "P-value: 0.004480117677528326\n"
     ]
    }
   ],
   "source": [
    "# Вывод результатов\n",
    "print(\"With WiFi Conversion Rate:\", with_wifi_conversion)\n",
    "print(\"Without WiFi Conversion Rate:\", without_wifi_conversion)\n",
    "print(\"Z-statistic:\", stat)\n",
    "print(\"P-value:\", p_value)\n"
   ]
  },
  {
   "cell_type": "code",
   "execution_count": 22,
   "id": "9df966e5",
   "metadata": {},
   "outputs": [
    {
     "name": "stdout",
     "output_type": "stream",
     "text": [
      "Есть статистически значимые различия между группами (есть влияние наличия Wi-Fi на конверсию).\n"
     ]
    }
   ],
   "source": [
    "# Определение статистической значимости на уровне 0.05\n",
    "if p_value < 0.05:\n",
    "    print(\"Есть статистически значимые различия между группами (есть влияние наличия Wi-Fi на конверсию).\")\n",
    "else:\n",
    "    print(\"Нет статистически значимых различий между группами (влияние наличия Wi-Fi не подтверждено).\")"
   ]
  },
  {
   "cell_type": "markdown",
   "id": "f8808d6e",
   "metadata": {},
   "source": [
    "**Вывод:** \n",
    "\n",
    "На основе проведенного анализа для MediaSource2 можно сделать следующие выводы:\n",
    "\n",
    "*Конверсия в платящего пользователя:*\n",
    "\n",
    "- Группа с Wi-Fi: 22.89%\n",
    "- Группа без Wi-Fi: 18.58%\n",
    "\n",
    "*Статистическая значимость:*\n",
    "\n",
    "- Z-статистика: 2.84\n",
    "- P-значение: 0.0045\n",
    "\n",
    "*Вывод:*\n",
    "\n",
    "- Статистический анализ с использованием Z-теста показывает, что различия в конверсии между группой с Wi-Fi и группой без Wi-Fi являются статистически значимыми на уровне значимости 0.05 (P-value < 0.05).\n",
    "- Таким образом, у нас есть основания утверждать, с 95% вероятностью, что наличие Wi-Fi влияет на конверсию в платящего пользователя для MediaSource2.\n",
    "\n",
    "*Обоснование:*\n",
    "\n",
    "- Полученное P-значение менее 0.05, что говорит о статистической значимости различий между группами.\n",
    "- Z-статистика также подтверждает, что различия не случайны и влияют на конверсию.\n",
    "\n",
    "*Рекомендации:*\n",
    "\n",
    "- Результаты говорят о том, что влияние наличия Wi-Fi на конверсию существенно.\n",
    "- Рекомендуется учитывать этот фактор при оценке и оптимизации маркетинговых кампаний для MediaSource2.\n",
    "\n",
    "Таким образом, на основе данных, предоставленных для MediaSource2, можно утверждать, что влияние наличия Wi-Fi имеет статистически значимое воздействие на конверсию в платящего пользователя."
   ]
  },
  {
   "cell_type": "markdown",
   "id": "8547e410",
   "metadata": {},
   "source": [
    " <a id='section1.3'></a>"
   ]
  },
  {
   "cell_type": "markdown",
   "id": "6f5c9dd9",
   "metadata": {},
   "source": [
    "### **3)** Выработайте ряд рекомендаций для оптимизации рекламных кампаний, считайте, что ограничений на оптимизацию нет, ваша цель - поднять прибыльность и эффективность маркетинговых кампаний на текущих источниках."
   ]
  },
  {
   "cell_type": "markdown",
   "id": "fbd9c91f",
   "metadata": {},
   "source": [
    "На основе представленных данных и с учетом цели повышения прибыльности и эффективности маркетинговых кампаний, вот несколько рекомендаций для оптимизации рекламных стратегий:\n",
    "\n",
    "**Бюджетная оптимизация:**\n",
    "\n",
    "Перераспределить бюджет в пользу источников с более высоким ROAS. Например, увеличить бюджет для PUBMATIC и IRONSOURCE, которые демонстрируют высокий ROAS.\n",
    "Внимательно рассмотреть распределение бюджета между каналами внутри каждого источника.\n",
    "\n",
    "**Оптимизация по каналам:**\n",
    "\n",
    "Сосредоточиться на каналах с высокой конверсией. Например, для MediaSource2 увеличить усилия в каналах, таких как IRONSOURCE и APPLOVIN, где конверсия более высокая.\n",
    "\n",
    "**Мониторинг и оптимизация CPI:**\n",
    "\n",
    "Внимательно следить за изменениями в CPI. Если CPI начинает расти, исследовать причины и принять меры по его снижению.\n",
    "\n",
    "**Эксперименты с объявлениями:**\n",
    "\n",
    "Провести тесты с разными творческими материалами и креативами для повышения эффективности рекламных объявлений.\n",
    "\n",
    "**Фокус на целевой аудитории:**\n",
    "\n",
    "Использовать данные о конверсии для выделения более эффективных сегментов целевой аудитории и сосредоточиться на них.\n",
    "\n",
    "**Увеличение ставок на эффективные ключевые слова:**\n",
    "\n",
    "Для кампаний в канале Search увеличить ставки на ключевые слова, которые приводят к более высокой конверсии.\n",
    "\n",
    "**Мониторинг и анализ:**\n",
    "\n",
    "Регулярно мониторить показатели и реагировать на изменения в динамике маркетинговых кампаний.\n",
    "Производить дополнительные анализы для выявления новых возможностей и слабых мест.\n",
    "\n",
    "Эти рекомендации ориентированы на достижение баланса между контролем затрат, увеличением конверсии и максимизацией ROAS для повышения общей прибыльности рекламных кампаний."
   ]
  },
  {
   "cell_type": "markdown",
   "id": "06211214",
   "metadata": {},
   "source": [
    " <a id='section2'></a>"
   ]
  },
  {
   "cell_type": "markdown",
   "id": "8e0e237c",
   "metadata": {},
   "source": [
    "### **2.** Какие основные методы и модели атрибуции существуют для проектов на iOS?\n",
    "**Укажите преимущества и критические ограничения в различных методах.**"
   ]
  },
  {
   "cell_type": "markdown",
   "id": "1b1fff22",
   "metadata": {},
   "source": [
    "В области атрибуции для проектов на iOS используют различные методы и модели для определения вклада каждого рекламного канала в конверсии. Вот несколько основных методов:\n",
    "\n",
    "Методы:\n",
    "\n",
    "**Последний касание (Last Touch):**\n",
    "\n",
    "- *Преимущества:* Прост в реализации.\n",
    "- *Ограничения:* Игнорирует другие взаимодействия.\n",
    "\n",
    "**Первое касание (First Touch):**\n",
    "\n",
    "- *Преимущества:* Учитывает начальные взаимодействия.\n",
    "- *Ограничения:* Не учитывает последующие влияния.\n",
    "\n",
    "**Линейная модель:**\n",
    "\n",
    "- *Преимущества:* Равномерно распределяет вклад.\n",
    "- *Ограничения:* Может быть слишком упрощенной.\n",
    "\n",
    "Модели атрибуции:\n",
    "\n",
    "**Модель равномерного взвешивания времени (Time Decay Model):**\n",
    "\n",
    "- *Преимущества:* Учитывает все взаимодействия, придавая больший вес близким к моменту конверсии.\n",
    "- *Ограничения:* Основывается на предположении линейной зависимости от времени.\n",
    "\n",
    "**Последнее некасательное взаимодействие (Last Non-Direct Click Model):**\n",
    "\n",
    "- *Преимущества:* Исключает прямые визиты перед конверсией.\n",
    "- *Ограничения:* Игнорирует прямые влияния.\n",
    "\n",
    "**Модель позиционирования (Position-Based Model):**\n",
    "\n",
    "- *Преимущества:* Учитывает важность первого и последнего касания.\n",
    "- *Ограничения:* Может игнорировать промежуточные влияния.\n",
    "\n",
    "**Преимущества и ограничения:**\n",
    "\n",
    "- *Преимущества:* Простота в реализации, равномерное распределение вклада, учет важности времени и начальных/конечных взаимодействий.\n",
    "- *Ограничения:* Возможные упрощения, игнорирование определенных влияний.\n",
    "\n",
    "Ответ основан на информации из интернета и форумов, учитывая, что область новая и ранее не  приходилось сталкиваться в работе."
   ]
  },
  {
   "cell_type": "markdown",
   "id": "cd1a2432",
   "metadata": {},
   "source": [
    " <a id='section3'></a>"
   ]
  },
  {
   "cell_type": "markdown",
   "id": "b3c06fb8",
   "metadata": {},
   "source": [
    "### **3.** \n",
    "У вас в работе находится игра, каждый уровень которой проходится за 3 минуты ровно. При прохождении\n",
    "уровня игрок сразу попадает на следующий. Вероятность проигрыша для каждого уровня и игрока одинакова\n",
    "и равняется 75% - тогда игроку предстоит начать прохождение уровня заново. Проиграть можно в любой\n",
    "момент времени. Также после каждой победы или поражения игрок с 20% вероятностью ставит игру на паузу\n",
    "продолжительностью 10-30 секунд. Сколько уровней вероятнее всего игрок пройдёт за 1 час?\n",
    "Приложите полное решение задачи или же изложите логику рассуждений."
   ]
  },
  {
   "cell_type": "markdown",
   "id": "3c7cf70a",
   "metadata": {},
   "source": [
    "**Логика решения:**\n",
    "\n",
    "Определим вероятность прохождения одного уровня, учитывая вероятность проигрыша и возможность пауз.\n",
    "Рассчитаем среднее время, которое игрок проводит на каждом уровне.\n",
    "Определим, сколько уровней игрок может пройти за 1 час.\n",
    "\n",
    "*Шаг 1:* Вероятность прохождения одного уровня\n",
    "\n",
    "- Вероятность проигрыша: 75% (0.75).\n",
    "- Вероятность паузы: 20% (0.2).\n",
    "- Вероятность успешного прохождения: 1 - Вероятность проигрыша - Вероятность паузы.\n",
    "\n",
    "*Шаг 2:* Среднее время на уровне\n",
    "\n",
    "- Время прохождения уровня: 3 минуты.\n",
    "- Время паузы (если применяется): Среднее значение от 10 до 30 секунд.\n",
    "\n",
    "*Шаг 3:* Количество уровней за 1 час\n",
    "\n",
    "-Рассчитаем, сколько уровней может пройти игрок за 1 час, учитывая вероятность успешного прохождения и время на уровне."
   ]
  },
  {
   "cell_type": "code",
   "execution_count": 23,
   "id": "e06b98f1",
   "metadata": {},
   "outputs": [],
   "source": [
    "import random"
   ]
  },
  {
   "cell_type": "code",
   "execution_count": 24,
   "id": "8933efaf",
   "metadata": {},
   "outputs": [],
   "source": [
    "def play_game():\n",
    "    # Вероятность проигрыша\n",
    "    loss_probability = 0.75\n",
    "\n",
    "    # Счетчик уровней\n",
    "    levels = 0\n",
    "    # Счетчик времени\n",
    "    total_time = 0\n",
    "\n",
    "    while total_time < 60:  # Пока не прошло 1 часа\n",
    "        if random.uniform(0, 1) > loss_probability:  # Игрок выигрывает\n",
    "            levels += 1\n",
    "            total_time += 3  # Время на уровень\n",
    "\n",
    "    return levels"
   ]
  },
  {
   "cell_type": "code",
   "execution_count": 25,
   "id": "77b12679",
   "metadata": {},
   "outputs": [],
   "source": [
    "# Запускаем игру много раз и усредняем результат\n",
    "num_simulations = 10000\n",
    "total_levels = sum(play_game() for _ in range(num_simulations))\n",
    "average_levels = total_levels / num_simulations\n"
   ]
  },
  {
   "cell_type": "code",
   "execution_count": 26,
   "id": "749d8d26",
   "metadata": {},
   "outputs": [
    {
     "name": "stdout",
     "output_type": "stream",
     "text": [
      "Игрок вероятнее всего пройдет 20.00 уровней за 1 час.\n"
     ]
    }
   ],
   "source": [
    "print(f\"Игрок вероятнее всего пройдет {average_levels:.2f} уровней за 1 час.\")"
   ]
  },
  {
   "cell_type": "markdown",
   "id": "f1861e58",
   "metadata": {},
   "source": [
    " <a id='section4'></a>"
   ]
  },
  {
   "cell_type": "markdown",
   "id": "96eee1ea",
   "metadata": {},
   "source": [
    "### **4.** Назовите ТОП 5 мобильных игр и кратко опишите основные механики этих игр."
   ]
  },
  {
   "cell_type": "markdown",
   "id": "caafe10f",
   "metadata": {},
   "source": [
    "**Genshin Impact:** Экшен-RPG с открытым миром, где игроки исследуют Тиват, сражаются с монстрами, решают головоломки и прокачивают своих персонажей."
   ]
  },
  {
   "cell_type": "markdown",
   "id": "2b35655b",
   "metadata": {},
   "source": [
    "**PUBG Mobile:** Боевая рояльная игра. Игроки парашютируются на остров, собирают оружие и снаряжение, сражаются до последнего выжившего."
   ]
  },
  {
   "cell_type": "markdown",
   "id": "88e4b2ad",
   "metadata": {},
   "source": [
    "**Call of Duty: Mobile:** Мобильная версия популярной серии шутеров от первого лица. Игроки сражаются в различных режимах, используя разнообразное оружие."
   ]
  },
  {
   "cell_type": "markdown",
   "id": "fa3697a5",
   "metadata": {},
   "source": [
    "**Fortnite:** Боевая рояльная игра с элементами строительства. Игроки сражаются, строят структуры и выживают в постоянно сжимающемся круге."
   ]
  },
  {
   "cell_type": "markdown",
   "id": "daa9374c",
   "metadata": {},
   "source": [
    "**Roblox:** Платформа с различными играми, созданными пользователями. Игроки могут создавать свои виртуальные миры или играть в чужие."
   ]
  }
 ],
 "metadata": {
  "kernelspec": {
   "display_name": "Python 3 (ipykernel)",
   "language": "python",
   "name": "python3"
  },
  "language_info": {
   "codemirror_mode": {
    "name": "ipython",
    "version": 3
   },
   "file_extension": ".py",
   "mimetype": "text/x-python",
   "name": "python",
   "nbconvert_exporter": "python",
   "pygments_lexer": "ipython3",
   "version": "3.11.3"
  }
 },
 "nbformat": 4,
 "nbformat_minor": 5
}
